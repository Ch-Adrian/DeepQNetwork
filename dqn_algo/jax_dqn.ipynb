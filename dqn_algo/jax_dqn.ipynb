{
 "cells": [
  {
   "cell_type": "code",
   "execution_count": 4,
   "metadata": {},
   "outputs": [
    {
     "ename": "ModuleNotFoundError",
     "evalue": "No module named 'jax'",
     "output_type": "error",
     "traceback": [
      "\u001b[0;31m---------------------------------------------------------------------------\u001b[0m",
      "\u001b[0;31mModuleNotFoundError\u001b[0m                       Traceback (most recent call last)",
      "Cell \u001b[0;32mIn[4], line 1\u001b[0m\n\u001b[0;32m----> 1\u001b[0m \u001b[38;5;28;01mimport\u001b[39;00m \u001b[38;5;21;01mjax\u001b[39;00m\n\u001b[1;32m      2\u001b[0m \u001b[38;5;28;01mimport\u001b[39;00m \u001b[38;5;21;01mjax\u001b[39;00m\u001b[38;5;21;01m.\u001b[39;00m\u001b[38;5;21;01mnumpy\u001b[39;00m \u001b[38;5;28;01mas\u001b[39;00m \u001b[38;5;21;01mjnp\u001b[39;00m\n\u001b[1;32m      3\u001b[0m \u001b[38;5;28;01mimport\u001b[39;00m \u001b[38;5;21;01mflax\u001b[39;00m\u001b[38;5;21;01m.\u001b[39;00m\u001b[38;5;21;01mlinen\u001b[39;00m \u001b[38;5;28;01mas\u001b[39;00m \u001b[38;5;21;01mnn\u001b[39;00m\n",
      "\u001b[0;31mModuleNotFoundError\u001b[0m: No module named 'jax'"
     ]
    }
   ],
   "source": [
    "import jax\n",
    "import jax.numpy as jnp\n",
    "import flax.linen as nn\n",
    "from flax.training import train_state\n",
    "import gym\n",
    "import optax  # for optimizers\n",
    "import numpy as np\n",
    "from jax import random\n"
   ]
  },
  {
   "cell_type": "code",
   "execution_count": null,
   "metadata": {},
   "outputs": [],
   "source": [
    "class PolicyNetwork(nn.Module):\n",
    "    hidden_size: int  # Hidden layer size\n",
    "\n",
    "    def setup(self):\n",
    "        # Define a two-layer fully connected network\n",
    "        self.dense1 = nn.Dense(self.hidden_size)\n",
    "        self.dense2 = nn.Dense(2)  # Output layer for 2 possible actions\n",
    "\n",
    "    def __call__(self, x):\n",
    "        x = jax.nn.relu(self.dense1(x))\n",
    "        x = self.dense2(x)\n",
    "        return jax.nn.softmax(x)  # Output probabilities over actions\n"
   ]
  },
  {
   "cell_type": "code",
   "execution_count": null,
   "metadata": {},
   "outputs": [],
   "source": [
    "def create_env():\n",
    "    # Create the CartPole environment\n",
    "    env = gym.make('CartPole-v1')\n",
    "    return env\n"
   ]
  },
  {
   "cell_type": "code",
   "execution_count": null,
   "metadata": {},
   "outputs": [],
   "source": [
    "def create_train_state(rng, model, learning_rate):\n",
    "    # Initialize the model parameters with the random key\n",
    "    params = model.init(rng, jnp.ones([1, 4]))  # Assuming state space of (4,)\n",
    "    tx = optax.adam(learning_rate)  # Adam optimizer\n",
    "    return train_state.TrainState.create(apply_fn=model.apply, params=params, tx=tx)\n"
   ]
  },
  {
   "cell_type": "code",
   "execution_count": null,
   "metadata": {},
   "outputs": [],
   "source": [
    "def compute_returns(rewards, gamma=0.99):\n",
    "    returns = []\n",
    "    R = 0\n",
    "    for reward in reversed(rewards):\n",
    "        R = reward + gamma * R\n",
    "        returns.insert(0, R)\n",
    "    return np.array(returns)\n",
    "\n",
    "def reinforce_loss(params, state_batch, action_batch, return_batch, model):\n",
    "    # Compute the action probabilities\n",
    "    action_probs = model.apply({'params': params}, state_batch)\n",
    "    \n",
    "    # Compute the log probability of the taken actions\n",
    "    log_probs = jnp.log(jnp.sum(action_probs * action_batch, axis=-1))\n",
    "\n",
    "    # Compute the loss (negative log probability * return)\n",
    "    loss = -jnp.mean(log_probs * return_batch)  # REINFORCE loss (negative sign because we minimize)\n",
    "    return loss\n"
   ]
  },
  {
   "cell_type": "code",
   "execution_count": null,
   "metadata": {},
   "outputs": [],
   "source": [
    "def train_step(state, env, model, rng, gamma=0.99):\n",
    "    # Rollout one episode to collect experiences\n",
    "    states, actions, rewards = [], [], []\n",
    "    state = env.reset()\n",
    "    done = False\n",
    "    \n",
    "    while not done:\n",
    "        states.append(state)\n",
    "        \n",
    "        # Sample an action from the policy network\n",
    "        action_probs = model.apply({'params': state.params}, jnp.array(state[None, :]))\n",
    "        action = np.random.choice(2, p=action_probs[0])  # Sample from action distribution\n",
    "        \n",
    "        # Step the environment\n",
    "        next_state, reward, done, _ = env.step(action)\n",
    "        \n",
    "        # Store action and reward\n",
    "        actions.append(action)\n",
    "        rewards.append(reward)\n",
    "        \n",
    "        state = next_state\n",
    "    \n",
    "    # Convert lists to JAX arrays\n",
    "    states = jnp.array(states)\n",
    "    actions = jnp.array(actions)\n",
    "    rewards = jnp.array(rewards)\n",
    "\n",
    "    # Compute the returns for the trajectory\n",
    "    returns = compute_returns(rewards, gamma)\n",
    "\n",
    "    # Convert returns to JAX array\n",
    "    returns = jnp.array(returns)\n",
    "\n",
    "    # Compute the loss and gradients\n",
    "    loss, grads = jax.value_and_grad(reinforce_loss)(state.params, states, actions, returns, model)\n",
    "\n",
    "    # Update the model parameters using the gradients\n",
    "    state = state.apply_gradients(grads=grads)\n",
    "    \n",
    "    return state, loss\n"
   ]
  },
  {
   "cell_type": "code",
   "execution_count": null,
   "metadata": {},
   "outputs": [],
   "source": [
    "def train():\n",
    "    # Set the random seed and create the environment\n",
    "    rng = random.PRNGKey(42)\n",
    "    env = create_env()\n",
    "    \n",
    "    # Create the model\n",
    "    model = PolicyNetwork(hidden_size=128)\n",
    "    \n",
    "    # Create the initial training state with model parameters\n",
    "    state = create_train_state(rng, model, learning_rate=1e-3)\n",
    "    \n",
    "    num_episodes = 1000\n",
    "    for episode in range(num_episodes):\n",
    "        state, loss = train_step(state, env, model, rng)\n",
    "        \n",
    "        # Print the progress\n",
    "        if episode % 100 == 0:\n",
    "            print(f\"Episode {episode}/{num_episodes} | Loss: {loss:.4f}\")\n",
    "        \n",
    "    return state\n"
   ]
  },
  {
   "cell_type": "code",
   "execution_count": null,
   "metadata": {},
   "outputs": [],
   "source": [
    "if __name__ == \"__main__\":\n",
    "    trained_state = train()\n"
   ]
  }
 ],
 "metadata": {
  "kernelspec": {
   "display_name": ".venv",
   "language": "python",
   "name": "python3"
  },
  "language_info": {
   "codemirror_mode": {
    "name": "ipython",
    "version": 3
   },
   "file_extension": ".py",
   "mimetype": "text/x-python",
   "name": "python",
   "nbconvert_exporter": "python",
   "pygments_lexer": "ipython3",
   "version": "3.11.11"
  }
 },
 "nbformat": 4,
 "nbformat_minor": 2
}
