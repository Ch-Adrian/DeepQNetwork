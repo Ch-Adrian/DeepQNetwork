{
  "cells": [
    {
      "cell_type": "code",
      "source": [
        "!pip install git+https://github.com/deepmind/dm-haiku optax jax_tqdm jax pandas git+https://github.com/instadeepai/jumanji.git"
      ],
      "metadata": {
        "colab": {
          "base_uri": "https://localhost:8080/"
        },
        "id": "1o_zTFdasl-G",
        "outputId": "357110ed-2a65-4d4c-b2f5-d65ed7ccc45f"
      },
      "execution_count": 1,
      "outputs": [
        {
          "output_type": "stream",
          "name": "stdout",
          "text": [
            "Collecting git+https://github.com/deepmind/dm-haiku\n",
            "  Cloning https://github.com/deepmind/dm-haiku to /tmp/pip-req-build-em2gi918\n",
            "  Running command git clone --filter=blob:none --quiet https://github.com/deepmind/dm-haiku /tmp/pip-req-build-em2gi918\n",
            "  Resolved https://github.com/deepmind/dm-haiku to commit a32b885949300989b9822eb26142216b37a27f51\n",
            "  Preparing metadata (setup.py) ... \u001b[?25l\u001b[?25hdone\n",
            "Collecting git+https://github.com/instadeepai/jumanji.git\n",
            "  Cloning https://github.com/instadeepai/jumanji.git to /tmp/pip-req-build-53a62bi5\n",
            "  Running command git clone --filter=blob:none --quiet https://github.com/instadeepai/jumanji.git /tmp/pip-req-build-53a62bi5\n",
            "  Resolved https://github.com/instadeepai/jumanji.git to commit 185b9fadfafebfee17a3f861b6eed500dfdf52e6\n",
            "  Installing build dependencies ... \u001b[?25l\u001b[?25hdone\n",
            "  Getting requirements to build wheel ... \u001b[?25l\u001b[?25hdone\n",
            "  Preparing metadata (pyproject.toml) ... \u001b[?25l\u001b[?25hdone\n",
            "Requirement already satisfied: optax in /usr/local/lib/python3.11/dist-packages (0.2.4)\n",
            "Requirement already satisfied: jax_tqdm in /usr/local/lib/python3.11/dist-packages (0.3.1)\n",
            "Requirement already satisfied: jax in /usr/local/lib/python3.11/dist-packages (0.4.33)\n",
            "Requirement already satisfied: pandas in /usr/local/lib/python3.11/dist-packages (2.2.2)\n",
            "Requirement already satisfied: absl-py>=0.7.1 in /usr/local/lib/python3.11/dist-packages (from dm-haiku==0.0.14.dev0) (1.4.0)\n",
            "Requirement already satisfied: jmp>=0.0.2 in /usr/local/lib/python3.11/dist-packages (from dm-haiku==0.0.14.dev0) (0.0.4)\n",
            "Requirement already satisfied: numpy>=1.18.0 in /usr/local/lib/python3.11/dist-packages (from dm-haiku==0.0.14.dev0) (1.26.4)\n",
            "Requirement already satisfied: tabulate>=0.8.9 in /usr/local/lib/python3.11/dist-packages (from dm-haiku==0.0.14.dev0) (0.9.0)\n",
            "Requirement already satisfied: chex>=0.1.87 in /usr/local/lib/python3.11/dist-packages (from optax) (0.1.88)\n",
            "Requirement already satisfied: jaxlib>=0.4.27 in /usr/local/lib/python3.11/dist-packages (from optax) (0.4.33)\n",
            "Requirement already satisfied: etils[epy] in /usr/local/lib/python3.11/dist-packages (from optax) (1.11.0)\n",
            "Requirement already satisfied: tqdm<5.0.0,>=4.64.1 in /usr/local/lib/python3.11/dist-packages (from jax_tqdm) (4.67.1)\n",
            "Requirement already satisfied: ml-dtypes>=0.2.0 in /usr/local/lib/python3.11/dist-packages (from jax) (0.4.1)\n",
            "Requirement already satisfied: opt-einsum in /usr/local/lib/python3.11/dist-packages (from jax) (3.4.0)\n",
            "Requirement already satisfied: scipy>=1.10 in /usr/local/lib/python3.11/dist-packages (from jax) (1.13.1)\n",
            "Requirement already satisfied: python-dateutil>=2.8.2 in /usr/local/lib/python3.11/dist-packages (from pandas) (2.8.2)\n",
            "Requirement already satisfied: pytz>=2020.1 in /usr/local/lib/python3.11/dist-packages (from pandas) (2024.2)\n",
            "Requirement already satisfied: tzdata>=2022.7 in /usr/local/lib/python3.11/dist-packages (from pandas) (2025.1)\n",
            "Requirement already satisfied: dm-env>=1.5 in /usr/local/lib/python3.11/dist-packages (from jumanji==1.1.0) (1.6)\n",
            "Requirement already satisfied: gymnasium>=1.0 in /usr/local/lib/python3.11/dist-packages (from jumanji==1.1.0) (1.0.0)\n",
            "Requirement already satisfied: huggingface-hub in /usr/local/lib/python3.11/dist-packages (from jumanji==1.1.0) (0.27.1)\n",
            "Requirement already satisfied: matplotlib~=3.7.4 in /usr/local/lib/python3.11/dist-packages (from jumanji==1.1.0) (3.7.5)\n",
            "Requirement already satisfied: Pillow>=9.0.0 in /usr/local/lib/python3.11/dist-packages (from jumanji==1.1.0) (11.1.0)\n",
            "Requirement already satisfied: typing-extensions>=4.0.0 in /usr/local/lib/python3.11/dist-packages (from jumanji==1.1.0) (4.12.2)\n",
            "Requirement already satisfied: toolz>=0.9.0 in /usr/local/lib/python3.11/dist-packages (from chex>=0.1.87->optax) (0.12.1)\n",
            "Requirement already satisfied: dm-tree in /usr/local/lib/python3.11/dist-packages (from dm-env>=1.5->jumanji==1.1.0) (0.1.8)\n",
            "Requirement already satisfied: cloudpickle>=1.2.0 in /usr/local/lib/python3.11/dist-packages (from gymnasium>=1.0->jumanji==1.1.0) (3.1.1)\n",
            "Requirement already satisfied: farama-notifications>=0.0.1 in /usr/local/lib/python3.11/dist-packages (from gymnasium>=1.0->jumanji==1.1.0) (0.0.4)\n",
            "Requirement already satisfied: contourpy>=1.0.1 in /usr/local/lib/python3.11/dist-packages (from matplotlib~=3.7.4->jumanji==1.1.0) (1.3.1)\n",
            "Requirement already satisfied: cycler>=0.10 in /usr/local/lib/python3.11/dist-packages (from matplotlib~=3.7.4->jumanji==1.1.0) (0.12.1)\n",
            "Requirement already satisfied: fonttools>=4.22.0 in /usr/local/lib/python3.11/dist-packages (from matplotlib~=3.7.4->jumanji==1.1.0) (4.55.4)\n",
            "Requirement already satisfied: kiwisolver>=1.0.1 in /usr/local/lib/python3.11/dist-packages (from matplotlib~=3.7.4->jumanji==1.1.0) (1.4.8)\n",
            "Requirement already satisfied: packaging>=20.0 in /usr/local/lib/python3.11/dist-packages (from matplotlib~=3.7.4->jumanji==1.1.0) (24.2)\n",
            "Requirement already satisfied: pyparsing>=2.3.1 in /usr/local/lib/python3.11/dist-packages (from matplotlib~=3.7.4->jumanji==1.1.0) (3.2.1)\n",
            "Requirement already satisfied: six>=1.5 in /usr/local/lib/python3.11/dist-packages (from python-dateutil>=2.8.2->pandas) (1.17.0)\n",
            "Requirement already satisfied: filelock in /usr/local/lib/python3.11/dist-packages (from huggingface-hub->jumanji==1.1.0) (3.17.0)\n",
            "Requirement already satisfied: fsspec>=2023.5.0 in /usr/local/lib/python3.11/dist-packages (from huggingface-hub->jumanji==1.1.0) (2024.10.0)\n",
            "Requirement already satisfied: pyyaml>=5.1 in /usr/local/lib/python3.11/dist-packages (from huggingface-hub->jumanji==1.1.0) (6.0.2)\n",
            "Requirement already satisfied: requests in /usr/local/lib/python3.11/dist-packages (from huggingface-hub->jumanji==1.1.0) (2.32.3)\n",
            "Requirement already satisfied: charset-normalizer<4,>=2 in /usr/local/lib/python3.11/dist-packages (from requests->huggingface-hub->jumanji==1.1.0) (3.4.1)\n",
            "Requirement already satisfied: idna<4,>=2.5 in /usr/local/lib/python3.11/dist-packages (from requests->huggingface-hub->jumanji==1.1.0) (3.10)\n",
            "Requirement already satisfied: urllib3<3,>=1.21.1 in /usr/local/lib/python3.11/dist-packages (from requests->huggingface-hub->jumanji==1.1.0) (2.3.0)\n",
            "Requirement already satisfied: certifi>=2017.4.17 in /usr/local/lib/python3.11/dist-packages (from requests->huggingface-hub->jumanji==1.1.0) (2024.12.14)\n"
          ]
        }
      ]
    },
    {
      "cell_type": "code",
      "execution_count": 2,
      "metadata": {
        "id": "PrDHGyPqsTKj"
      },
      "outputs": [],
      "source": [
        "import jax\n",
        "import jax.numpy as jnp\n",
        "import pandas as pd\n",
        "import optax\n",
        "import haiku as hk\n",
        "import numpy as np\n",
        "from network import CustomNetwork\n",
        "\n",
        "from jax import jit, lax, random, vmap\n",
        "\n",
        "from jax_tqdm import loop_tqdm\n",
        "\n",
        "import matplotlib.pyplot as plt\n",
        "\n",
        "from cartpole import CartPole\n",
        "from dqn import DQN\n",
        "from replay_buffer import ReplayBuffer\n",
        "\n",
        "import jumanji\n",
        "from jumanji.wrappers import AutoResetWrapper\n",
        "from jumanji.types import StepType\n",
        "BATCH_SIZE = 32"
      ]
    },
    {
      "cell_type": "code",
      "execution_count": 3,
      "metadata": {
        "id": "YL0ndQz2sTKo"
      },
      "outputs": [],
      "source": [
        "from typing import Callable\n",
        "\n",
        "from base_agent import BaseAgent\n",
        "from base_env import BaseEnv\n",
        "from base_buffer import BaseReplayBuffer\n",
        "\n",
        "def rollout(\n",
        "    timesteps: int,\n",
        "    random_seed: int,\n",
        "    target_net_update_freq: int,\n",
        "    model: hk.Transformed,\n",
        "    optimizer: optax.GradientTransformation,\n",
        "    buffer_state: dict,\n",
        "    agent: BaseAgent,\n",
        "    env: BaseEnv,\n",
        "    replay_buffer: BaseReplayBuffer,\n",
        "    state_shape: int,\n",
        "    buffer_size: int,\n",
        "    epsilon_decay_fn: Callable,\n",
        "    epsilon_start: float,\n",
        "    epsilon_end: float,\n",
        "    decay_rate: float,\n",
        ") -> dict:\n",
        "    @loop_tqdm(timesteps)\n",
        "    @jit\n",
        "    def _fori_body(i: int, val: tuple):\n",
        "        (\n",
        "            model_params,\n",
        "            target_net_params,\n",
        "            optimizer_state,\n",
        "            buffer_state,\n",
        "            action_key,\n",
        "            buffer_key,\n",
        "            env_state,\n",
        "            all_actions,\n",
        "            all_obs,\n",
        "            all_masks,\n",
        "            all_rewards,\n",
        "            all_done,\n",
        "            losses,\n",
        "        ) = val\n",
        "\n",
        "        state = env_state\n",
        "        epsilon = epsilon_decay_fn(epsilon_start, epsilon_end, i, decay_rate)\n",
        "        action, action_key = agent.act(action_key, model_params, state, epsilon)\n",
        "\n",
        "        new_state, timestep = env.step(env_state, action)\n",
        "        env_state = new_state\n",
        "        reward = timestep.reward\n",
        "        done = jnp.asarray(timestep.step_type == StepType.LAST)\n",
        "\n",
        "        experience = (\n",
        "            jnp.asarray(state.board).reshape(-1),\n",
        "            jnp.asarray(state.action_mask),\n",
        "            jnp.asarray(action),\n",
        "            jnp.asarray(reward),\n",
        "            jnp.asarray(new_state.board).reshape(-1),\n",
        "            jnp.asarray(new_state.action_mask),\n",
        "            jnp.asarray(done),\n",
        "        )\n",
        "\n",
        "        buffer_state = replay_buffer.add(buffer_state, experience, i)\n",
        "        current_buffer_size = jnp.min(jnp.array([i, buffer_size]))\n",
        "\n",
        "        experiences_batch, buffer_key = replay_buffer.sample(\n",
        "            buffer_key,\n",
        "            buffer_state,\n",
        "            current_buffer_size,\n",
        "        )\n",
        "\n",
        "        model_params, optimizer_state, loss = agent.update(\n",
        "            model_params,\n",
        "            target_net_params,\n",
        "            optimizer,\n",
        "            optimizer_state,\n",
        "            experiences_batch,\n",
        "        )\n",
        "\n",
        "        # update the target parameters every ``target_net_update_freq`` steps\n",
        "        target_net_params = lax.cond(\n",
        "            i % target_net_update_freq == 0,\n",
        "            lambda _: model_params,\n",
        "            lambda _: target_net_params,\n",
        "            operand=None,\n",
        "        )\n",
        "\n",
        "        all_actions = all_actions.at[i].set(action)\n",
        "        all_obs = all_obs.at[i].set(jnp.resize(new_state.board, (16,)))\n",
        "        all_masks = all_masks.at[i].set(new_state.action_mask)\n",
        "        all_rewards = all_rewards.at[i].set(reward)\n",
        "        all_done = all_done.at[i].set(done)\n",
        "        losses = losses.at[i].set(loss)\n",
        "\n",
        "        val = (\n",
        "            model_params,\n",
        "            target_net_params,\n",
        "            optimizer_state,\n",
        "            buffer_state,\n",
        "            action_key,\n",
        "            buffer_key,\n",
        "            env_state,\n",
        "            all_actions,\n",
        "            all_obs,\n",
        "            all_masks,\n",
        "            all_rewards,\n",
        "            all_done,\n",
        "            losses,\n",
        "        )\n",
        "\n",
        "        return val\n",
        "\n",
        "    init_key, action_key, buffer_key = vmap(random.PRNGKey)(jnp.arange(3) + random_seed)\n",
        "    env_state, _ = env.reset(init_key)\n",
        "    all_actions = jnp.zeros([timesteps])\n",
        "    all_obs = jnp.zeros([timesteps, *state_shape])\n",
        "    all_masks = jnp.zeros([timesteps, 4])\n",
        "    all_rewards = jnp.zeros([timesteps], dtype=jnp.float32)\n",
        "    all_done = jnp.zeros([timesteps], dtype=jnp.bool_)\n",
        "    losses = jnp.zeros([timesteps], dtype=jnp.float32)\n",
        "\n",
        "    model_params = model.init(init_key, jnp.zeros(state_shape))\n",
        "    target_net_params = model.init(action_key, jnp.zeros(state_shape))\n",
        "    optimizer_state = optimizer.init(model_params)\n",
        "\n",
        "    val_init = (\n",
        "        model_params,\n",
        "        target_net_params,\n",
        "        optimizer_state,\n",
        "        buffer_state,\n",
        "        action_key,\n",
        "        buffer_key,\n",
        "        env_state,\n",
        "        all_actions,\n",
        "        all_obs,\n",
        "        all_masks,\n",
        "        all_rewards,\n",
        "        all_done,\n",
        "        losses,\n",
        "    )\n",
        "\n",
        "    vals = lax.fori_loop(0, timesteps, _fori_body, val_init)\n",
        "    output_dict = {}\n",
        "    keys = [\n",
        "        \"model_params\",\n",
        "        \"target_net_params\",\n",
        "        \"optimizer_state\",\n",
        "        \"buffer_state\",\n",
        "        \"action_key\",\n",
        "        \"buffer_key\",\n",
        "        \"env_state\",\n",
        "        \"all_actions\",\n",
        "        \"all_obs\",\n",
        "        \"all_masks\",\n",
        "        \"all_rewards\",\n",
        "        \"all_done\",\n",
        "        \"losses\",\n",
        "    ]\n",
        "    for idx, value in enumerate(vals):\n",
        "        output_dict[keys[idx]] = value\n",
        "\n",
        "    return output_dict\n"
      ]
    },
    {
      "cell_type": "code",
      "execution_count": 4,
      "metadata": {
        "id": "qxFEU9-HsTKq"
      },
      "outputs": [],
      "source": [
        "# Env parameters\n",
        "RANDOM_SEED = 1\n",
        "N_ACTIONS = 4\n",
        "STATE_SHAPE = (16,)\n",
        "\n",
        "# Hyperparameters\n",
        "DISCOUNT = 0.9\n",
        "NEURONS_PER_LAYER = [128, 256, 512, 512, 256, 128, N_ACTIONS]\n",
        "TIMESTEPS = 100_000\n",
        "TARGET_NET_UPDATE_FREQ = 10\n",
        "BUFFER_SIZE = 128\n",
        "BATCH_SIZE = 32\n",
        "LEARNING_RATE = 0.001\n",
        "EPSILON_START = 0.5\n",
        "EPSILON_END = 0\n",
        "DECAY_RATE = 1e-4"
      ]
    },
    {
      "cell_type": "code",
      "execution_count": 5,
      "metadata": {
        "colab": {
          "base_uri": "https://localhost:8080/"
        },
        "id": "PdtkxdT_sTKr",
        "outputId": "744ebab2-2ee3-4a43-efac-77f64451f609"
      },
      "outputs": [
        {
          "output_type": "stream",
          "name": "stdout",
          "text": [
            "{'action_masks': (128, 4), 'actions': (128,), 'dones': (128,), 'new_action_masks': (128, 4), 'next_states': (128, 16), 'rewards': (128,), 'states': (128, 16)}\n"
          ]
        }
      ],
      "source": [
        "buffer_state = {\n",
        "    \"states\": jnp.empty((BUFFER_SIZE, *STATE_SHAPE), dtype=jnp.float32),\n",
        "    \"action_masks\": jnp.empty((BUFFER_SIZE, 4), dtype=jnp.bool_),\n",
        "    \"actions\": jnp.empty((BUFFER_SIZE,), dtype=jnp.int32),\n",
        "    \"rewards\": jnp.empty((BUFFER_SIZE,), dtype=jnp.int32),\n",
        "    \"next_states\": jnp.empty((BUFFER_SIZE, *STATE_SHAPE), dtype=jnp.float32),\n",
        "    \"new_action_masks\": jnp.empty((BUFFER_SIZE, 4), dtype=jnp.bool_),\n",
        "    \"dones\": jnp.empty((BUFFER_SIZE,), dtype=jnp.bool_),\n",
        "}\n",
        "print(jax.tree_util.tree_map(lambda x: x.shape, buffer_state))"
      ]
    },
    {
      "cell_type": "code",
      "execution_count": 6,
      "metadata": {
        "id": "v-8StTpqsTKr"
      },
      "outputs": [],
      "source": [
        "model = hk.transform(lambda x: CustomNetwork(output_dim=N_ACTIONS)(x))\n",
        "\n",
        "def inverse_scaling_decay(epsilon_start, epsilon_end, current_step, decay_rate):\n",
        "    return epsilon_end + (epsilon_start - epsilon_end) / (1 + decay_rate * current_step)\n",
        "\n",
        "online_key, target_key = vmap(random.PRNGKey)(jnp.arange(2) + RANDOM_SEED)\n",
        "\n",
        "env = jumanji.make(\"Game2048-v1\")\n",
        "env = AutoResetWrapper(env)\n",
        "\n",
        "replay_buffer = ReplayBuffer(BUFFER_SIZE, BATCH_SIZE)\n",
        "online_net_params = model.init(online_key, random.normal(online_key, STATE_SHAPE))\n",
        "target_net_params = model.init(target_key, random.normal(target_key, STATE_SHAPE))\n",
        "optimizer = optax.adam(learning_rate=LEARNING_RATE)\n",
        "optimizer_state = optimizer.init(online_net_params)\n",
        "agent = DQN(model, DISCOUNT, N_ACTIONS)"
      ]
    },
    {
      "cell_type": "code",
      "execution_count": 7,
      "metadata": {
        "colab": {
          "base_uri": "https://localhost:8080/",
          "height": 564
        },
        "id": "hsOrQDpLsTKu",
        "outputId": "e18e9c5e-3901-4549-df75-0a74078ef421"
      },
      "outputs": [
        {
          "output_type": "display_data",
          "data": {
            "text/plain": [
              "<Figure size 1000x600 with 1 Axes>"
            ],
            "image/png": "[encoded data removed]"
          },
          "metadata": {}
        }
      ],
      "source": [
        "x_values = range(TIMESTEPS)\n",
        "y_values = [inverse_scaling_decay(EPSILON_START, EPSILON_END, i, DECAY_RATE) for i in x_values]\n",
        "\n",
        "plt.figure(figsize=(10, 6))\n",
        "plt.plot(x_values, y_values, label=\"Epsilon Decay\")\n",
        "plt.title(\"Epsilon Decay\")\n",
        "plt.xlabel(\"Timesteps\")\n",
        "plt.ylabel(\"Epsilon Value\")\n",
        "plt.legend()\n",
        "plt.grid(True)\n",
        "plt.show()"
      ]
    },
    {
      "cell_type": "code",
      "execution_count": 8,
      "metadata": {
        "colab": {
          "base_uri": "https://localhost:8080/"
        },
        "id": "Iyno-8DWsTKw",
        "outputId": "5ee2f16f-d193-48ce-ce69-2523c1c0c5ca"
      },
      "outputs": [
        {
          "output_type": "execute_result",
          "data": {
            "text/plain": [
              "{'custom_network/~/conv2_d': {'b': (32,), 'w': (2, 2, 1, 32)},\n",
              " 'custom_network/~/conv2_d_1': {'b': (64,), 'w': (2, 2, 32, 64)},\n",
              " 'custom_network/~/linear': {'b': (128,), 'w': (1024, 128)},\n",
              " 'custom_network/~/linear_1': {'b': (256,), 'w': (128, 256)},\n",
              " 'custom_network/~/linear_2': {'b': (128,), 'w': (256, 128)},\n",
              " 'custom_network/~/linear_3': {'b': (64,), 'w': (128, 64)},\n",
              " 'custom_network/~/linear_4': {'b': (4,), 'w': (64, 4)}}"
            ]
          },
          "metadata": {},
          "execution_count": 8
        }
      ],
      "source": [
        "jax.tree_util.tree_map(lambda x: x.shape, online_net_params)"
      ]
    },
    {
      "cell_type": "code",
      "execution_count": 9,
      "metadata": {
        "colab": {
          "base_uri": "https://localhost:8080/"
        },
        "id": "Cp4lE6X8sTKw",
        "outputId": "df6ebd42-ad15-40fa-e111-282e5a339d0a"
      },
      "outputs": [
        {
          "output_type": "execute_result",
          "data": {
            "text/plain": [
              "(ScaleByAdamState(count=(), mu={'custom_network/~/conv2_d': {'b': (32,), 'w': (2, 2, 1, 32)}, 'custom_network/~/conv2_d_1': {'b': (64,), 'w': (2, 2, 32, 64)}, 'custom_network/~/linear': {'b': (128,), 'w': (1024, 128)}, 'custom_network/~/linear_1': {'b': (256,), 'w': (128, 256)}, 'custom_network/~/linear_2': {'b': (128,), 'w': (256, 128)}, 'custom_network/~/linear_3': {'b': (64,), 'w': (128, 64)}, 'custom_network/~/linear_4': {'b': (4,), 'w': (64, 4)}}, nu={'custom_network/~/conv2_d': {'b': (32,), 'w': (2, 2, 1, 32)}, 'custom_network/~/conv2_d_1': {'b': (64,), 'w': (2, 2, 32, 64)}, 'custom_network/~/linear': {'b': (128,), 'w': (1024, 128)}, 'custom_network/~/linear_1': {'b': (256,), 'w': (128, 256)}, 'custom_network/~/linear_2': {'b': (128,), 'w': (256, 128)}, 'custom_network/~/linear_3': {'b': (64,), 'w': (128, 64)}, 'custom_network/~/linear_4': {'b': (4,), 'w': (64, 4)}}),\n",
              " EmptyState())"
            ]
          },
          "metadata": {},
          "execution_count": 9
        }
      ],
      "source": [
        "jax.tree_util.tree_map(lambda x: x.shape, optimizer_state)"
      ]
    },
    {
      "cell_type": "code",
      "execution_count": 15,
      "metadata": {
        "colab": {
          "base_uri": "https://localhost:8080/"
        },
        "id": "OKsjuxAysTKz",
        "outputId": "767d61f3-c459-4e01-c5cb-55cd9d981ebf"
      },
      "outputs": [
        {
          "output_type": "stream",
          "name": "stderr",
          "text": [
            "/usr/local/lib/python3.11/dist-packages/jax/_src/ops/scatter.py:92: FutureWarning: scatter inputs have incompatible types: cannot safely cast value from dtype=float32 to dtype=int32 with jax_numpy_dtype_promotion='standard'. In future JAX releases this will result in an error.\n",
            "  warnings.warn(\n"
          ]
        }
      ],
      "source": [
        "init_key, action_key, buffer_key = vmap(random.PRNGKey)(jnp.arange(3) + RANDOM_SEED)\n",
        "env_state, _ = env.reset(init_key)\n",
        "\n",
        "for i in range(BUFFER_SIZE):\n",
        "\n",
        "    action, action_key = agent.act(action_key, online_net_params, env_state, 1)\n",
        "    new_state, timestep = env.step(env_state, action)\n",
        "    reward = timestep.reward\n",
        "    done = jnp.asarray(timestep.step_type == StepType.LAST)\n",
        "\n",
        "    experience = (\n",
        "        jnp.asarray(env_state.board).reshape(-1),\n",
        "        jnp.asarray(env_state.action_mask),\n",
        "        jnp.asarray(action),\n",
        "        jnp.asarray(reward),\n",
        "        jnp.asarray(new_state.board).reshape(-1),\n",
        "        jnp.asarray(new_state.action_mask),\n",
        "        jnp.asarray(done),\n",
        "    )\n",
        "\n",
        "    buffer_state = replay_buffer.add(buffer_state, experience, i)\n",
        "    env_state = new_state"
      ]
    },
    {
      "cell_type": "code",
      "execution_count": 16,
      "metadata": {
        "colab": {
          "base_uri": "https://localhost:8080/",
          "height": 49,
          "referenced_widgets": [
            "6180d448b2e64f64b3c7135d6f2fbcc6",
            "9efc5b69ab124192a8296bf03c70c27c",
            "69bcd48e375d4ad2a68df656285471e5",
            "25c97e2f56904764abe1898197b0fa1a",
            "29b26a85bb2846b8a0d9c78e8a8e181e",
            "b828a2219ac0419591642ab3b60112cc",
            "7a363cc3c6a644fbb3b4c98a9c4af1d5",
            "25fb6bbd717547979af68a37b7bf9cfc",
            "0d611a36285443a79a837fcd01846587",
            "6cae3741786b4c14b22dda8f6bbe8672",
            "334de70fbcd24f38b96228b1ac5c6f21"
          ]
        },
        "id": "1CsEGWF8sTKz",
        "outputId": "3a16c8e9-9613-4e59-bb4b-228dc5e7df27"
      },
      "outputs": [
        {
          "output_type": "display_data",
          "data": {
            "text/plain": [
              "Running for 100,000 iterations:   0%|          | 0/100000 [00:00<?, ?it/s]"
            ],
            "application/vnd.jupyter.widget-view+json": {
              "version_major": 2,
              "version_minor": 0,
              "model_id": "6180d448b2e64f64b3c7135d6f2fbcc6"
            }
          },
          "metadata": {}
        }
      ],
      "source": [
        "rollout_params = {\n",
        "    \"timesteps\": TIMESTEPS,\n",
        "    \"random_seed\": RANDOM_SEED,\n",
        "    \"target_net_update_freq\": TARGET_NET_UPDATE_FREQ,\n",
        "    \"model\": model,\n",
        "    \"optimizer\": optimizer,\n",
        "    \"buffer_state\": buffer_state,\n",
        "    \"agent\": agent,\n",
        "    \"env\": env,\n",
        "    \"replay_buffer\": replay_buffer,\n",
        "    \"state_shape\": STATE_SHAPE,\n",
        "    \"buffer_size\": BUFFER_SIZE,\n",
        "    \"epsilon_decay_fn\": inverse_scaling_decay,\n",
        "    \"epsilon_start\": EPSILON_START,\n",
        "    \"epsilon_end\": EPSILON_END,\n",
        "    \"decay_rate\": DECAY_RATE,\n",
        "}\n",
        "\n",
        "out = rollout(**rollout_params)"
      ]
    },
    {
      "cell_type": "code",
      "execution_count": 26,
      "metadata": {
        "colab": {
          "base_uri": "https://localhost:8080/",
          "height": 564
        },
        "id": "WAx2KAqnsTKz",
        "outputId": "384fb4ec-0217-4cd5-f9f8-adecae1eb22f"
      },
      "outputs": [
        {
          "output_type": "display_data",
          "data": {
            "text/plain": [
              "<Figure size 1000x600 with 1 Axes>"
            ],
            "image/png": "[encoded data removed]"
          },
          "metadata": {}
        }
      ],
      "source": [
        "losses = out[\"losses\"][:-TIMESTEPS//2]\n",
        "\n",
        "plt.figure(figsize=(10, 6))\n",
        "plt.plot(losses, label=\"Training Loss\")\n",
        "plt.title(\"Loss during training\")\n",
        "plt.xlabel(\"Steps\")\n",
        "plt.ylabel(\"Loss\")\n",
        "plt.legend()\n",
        "plt.grid(True)\n",
        "plt.show()"
      ]
    },
    {
      "cell_type": "code",
      "execution_count": 20,
      "metadata": {
        "colab": {
          "base_uri": "https://localhost:8080/",
          "height": 564
        },
        "id": "tDuiMdq7sTK1",
        "outputId": "6086da12-bdea-4fea-a14e-f479eda34119"
      },
      "outputs": [
        {
          "output_type": "stream",
          "name": "stdout",
          "text": [
            "       episode  reward\n",
            "99995      526     0.0\n",
            "99996      526     0.0\n",
            "99997      526     0.0\n",
            "99998      526     0.0\n",
            "99999      526     0.0\n"
          ]
        },
        {
          "output_type": "display_data",
          "data": {
            "text/plain": [
              "<Figure size 1200x600 with 1 Axes>"
            ],
            "image/png": "[encoded data removed]"
          },
          "metadata": {}
        }
      ],
      "source": [
        "# Assuming `out` and colors are defined as in the provided code\n",
        "colors = ['#636EFA', '#EF553B']  # Example for Plotly qualitative colors\n",
        "reward_treshold = 2048\n",
        "# Create the DataFrame\n",
        "df = pd.DataFrame(\n",
        "    data={\n",
        "        \"episode\": out[\"all_done\"].cumsum(),\n",
        "        \"reward\": out[\"all_rewards\"],\n",
        "    },\n",
        ")\n",
        "print(df.tail())\n",
        "df[\"episode\"] = df[\"episode\"].shift().fillna(0)\n",
        "\n",
        "# Aggregate data by episode\n",
        "episodes_df = df.groupby(\"episode\").agg(\"sum\")\n",
        "\n",
        "# Define hover text and colors\n",
        "episodes_df[\"hover_text\"] = np.where(\n",
        "    episodes_df[\"reward\"] > reward_treshold,\n",
        "    \"Over 200 steps: \" + episodes_df[\"reward\"].astype(str),\n",
        "    \"Under 200 steps: \" + episodes_df[\"reward\"].astype(str)\n",
        ")\n",
        "episodes_df[\"color\"] = np.where(episodes_df[\"reward\"] > reward_treshold, colors[1], colors[0])\n",
        "\n",
        "# Separate data for different categories\n",
        "under_200 = episodes_df[episodes_df[\"reward\"] < reward_treshold]\n",
        "over_200 = episodes_df[episodes_df[\"reward\"] >= reward_treshold]\n",
        "\n",
        "# Create the figure\n",
        "plt.figure(figsize=(12, 6))\n",
        "\n",
        "# Plot bars for \"under 200 steps\"\n",
        "plt.bar(under_200.index, under_200[\"reward\"], color=colors[0], label=\"Under 200 steps\")\n",
        "\n",
        "# Plot bars for \"over 200 steps\"\n",
        "plt.bar(over_200.index, over_200[\"reward\"], color=colors[1], label=\"Over 200 steps\")\n",
        "\n",
        "# Add labels, title, and legend\n",
        "plt.title(\"Performances of DQN on the CartPole Environment\")\n",
        "plt.xlabel(\"Episode\")\n",
        "plt.ylabel(\"Sum of rewards\")\n",
        "plt.ylim(0, 200)\n",
        "plt.legend(title=\"Reward Categories\")\n",
        "plt.grid(axis=\"y\", linestyle=\"--\", alpha=0.7)\n",
        "\n",
        "# Display the plot\n",
        "plt.tight_layout()\n",
        "plt.show()\n"
      ]
    },
    {
      "cell_type": "code",
      "execution_count": 21,
      "metadata": {
        "colab": {
          "base_uri": "https://localhost:8080/",
          "height": 115
        },
        "id": "PvvqIrjGsTK1",
        "outputId": "8adf705d-4b88-4130-e301-dc7ded9b238b"
      },
      "outputs": [
        {
          "output_type": "execute_result",
          "data": {
            "text/plain": [
              "reward    3356.0\n",
              "dtype: float32"
            ],
            "text/html": [
              "<div>\n",
              "<style scoped>\n",
              "    .dataframe tbody tr th:only-of-type {\n",
              "        vertical-align: middle;\n",
              "    }\n",
              "\n",
              "    .dataframe tbody tr th {\n",
              "        vertical-align: top;\n",
              "    }\n",
              "\n",
              "    .dataframe thead th {\n",
              "        text-align: right;\n",
              "    }\n",
              "</style>\n",
              "<table border=\"1\" class=\"dataframe\">\n",
              "  <thead>\n",
              "    <tr style=\"text-align: right;\">\n",
              "      <th></th>\n",
              "      <th>0</th>\n",
              "    </tr>\n",
              "  </thead>\n",
              "  <tbody>\n",
              "    <tr>\n",
              "      <th>reward</th>\n",
              "      <td>3356.0</td>\n",
              "    </tr>\n",
              "  </tbody>\n",
              "</table>\n",
              "</div><br><label><b>dtype:</b> float32</label>"
            ]
          },
          "metadata": {},
          "execution_count": 21
        }
      ],
      "source": [
        "df.groupby(\"episode\").agg(\"sum\").max()"
      ]
    },
    {
      "cell_type": "code",
      "execution_count": 21,
      "metadata": {
        "id": "TC0FDncUsTK1"
      },
      "outputs": [],
      "source": []
    }
  ],
  "metadata": {
    "kernelspec": {
      "display_name": "Python 3",
      "name": "python3"
    },
    "language_info": {
      "codemirror_mode": {
        "name": "ipython",
        "version": 3
      },
      "file_extension": ".py",
      "mimetype": "text/x-python",
      "name": "python",
      "nbconvert_exporter": "python",
      "pygments_lexer": "ipython3",
      "version": "3.10.15"
    },
    "colab": {
      "provenance": [],
      "gpuType": "T4"
    },
    "accelerator": "GPU",
    "widgets": {
      "application/vnd.jupyter.widget-state+json": {
        "6180d448b2e64f64b3c7135d6f2fbcc6": {
          "model_module": "@jupyter-widgets/controls",
          "model_name": "HBoxModel",
          "model_module_version": "1.5.0",
          "state": {
            "_dom_classes": [],
            "_model_module": "@jupyter-widgets/controls",
            "_model_module_version": "1.5.0",
            "_model_name": "HBoxModel",
            "_view_count": null,
            "_view_module": "@jupyter-widgets/controls",
            "_view_module_version": "1.5.0",
            "_view_name": "HBoxView",
            "box_style": "",
            "children": [
              "IPY_MODEL_9efc5b69ab124192a8296bf03c70c27c",
              "IPY_MODEL_69bcd48e375d4ad2a68df656285471e5",
              "IPY_MODEL_25c97e2f56904764abe1898197b0fa1a"
            ],
            "layout": "IPY_MODEL_29b26a85bb2846b8a0d9c78e8a8e181e"
          }
        },
        "9efc5b69ab124192a8296bf03c70c27c": {
          "model_module": "@jupyter-widgets/controls",
          "model_name": "HTMLModel",
          "model_module_version": "1.5.0",
          "state": {
            "_dom_classes": [],
            "_model_module": "@jupyter-widgets/controls",
            "_model_module_version": "1.5.0",
            "_model_name": "HTMLModel",
            "_view_count": null,
            "_view_module": "@jupyter-widgets/controls",
            "_view_module_version": "1.5.0",
            "_view_name": "HTMLView",
            "description": "",
            "description_tooltip": null,
            "layout": "IPY_MODEL_b828a2219ac0419591642ab3b60112cc",
            "placeholder": "​",
            "style": "IPY_MODEL_7a363cc3c6a644fbb3b4c98a9c4af1d5",
            "value": "Running for 100,000 iterations: 100%"
          }
        },
        "69bcd48e375d4ad2a68df656285471e5": {
          "model_module": "@jupyter-widgets/controls",
          "model_name": "FloatProgressModel",
          "model_module_version": "1.5.0",
          "state": {
            "_dom_classes": [],
            "_model_module": "@jupyter-widgets/controls",
            "_model_module_version": "1.5.0",
            "_model_name": "FloatProgressModel",
            "_view_count": null,
            "_view_module": "@jupyter-widgets/controls",
            "_view_module_version": "1.5.0",
            "_view_name": "ProgressView",
            "bar_style": "success",
            "description": "",
            "description_tooltip": null,
            "layout": "IPY_MODEL_25fb6bbd717547979af68a37b7bf9cfc",
            "max": 100000,
            "min": 0,
            "orientation": "horizontal",
            "style": "IPY_MODEL_0d611a36285443a79a837fcd01846587",
            "value": 100000
          }
        },
        "25c97e2f56904764abe1898197b0fa1a": {
          "model_module": "@jupyter-widgets/controls",
          "model_name": "HTMLModel",
          "model_module_version": "1.5.0",
          "state": {
            "_dom_classes": [],
            "_model_module": "@jupyter-widgets/controls",
            "_model_module_version": "1.5.0",
            "_model_name": "HTMLModel",
            "_view_count": null,
            "_view_module": "@jupyter-widgets/controls",
            "_view_module_version": "1.5.0",
            "_view_name": "HTMLView",
            "description": "",
            "description_tooltip": null,
            "layout": "IPY_MODEL_6cae3741786b4c14b22dda8f6bbe8672",
            "placeholder": "​",
            "style": "IPY_MODEL_334de70fbcd24f38b96228b1ac5c6f21",
            "value": " 100000/100000 [01:43&lt;00:00, 1040.38it/s]"
          }
        },
        "29b26a85bb2846b8a0d9c78e8a8e181e": {
          "model_module": "@jupyter-widgets/base",
          "model_name": "LayoutModel",
          "model_module_version": "1.2.0",
          "state": {
            "_model_module": "@jupyter-widgets/base",
            "_model_module_version": "1.2.0",
            "_model_name": "LayoutModel",
            "_view_count": null,
            "_view_module": "@jupyter-widgets/base",
            "_view_module_version": "1.2.0",
            "_view_name": "LayoutView",
            "align_content": null,
            "align_items": null,
            "align_self": null,
            "border": null,
            "bottom": null,
            "display": null,
            "flex": null,
            "flex_flow": null,
            "grid_area": null,
            "grid_auto_columns": null,
            "grid_auto_flow": null,
            "grid_auto_rows": null,
            "grid_column": null,
            "grid_gap": null,
            "grid_row": null,
            "grid_template_areas": null,
            "grid_template_columns": null,
            "grid_template_rows": null,
            "height": null,
            "justify_content": null,
            "justify_items": null,
            "left": null,
            "margin": null,
            "max_height": null,
            "max_width": null,
            "min_height": null,
            "min_width": null,
            "object_fit": null,
            "object_position": null,
            "order": null,
            "overflow": null,
            "overflow_x": null,
            "overflow_y": null,
            "padding": null,
            "right": null,
            "top": null,
            "visibility": null,
            "width": null
          }
        },
        "b828a2219ac0419591642ab3b60112cc": {
          "model_module": "@jupyter-widgets/base",
          "model_name": "LayoutModel",
          "model_module_version": "1.2.0",
          "state": {
            "_model_module": "@jupyter-widgets/base",
            "_model_module_version": "1.2.0",
            "_model_name": "LayoutModel",
            "_view_count": null,
            "_view_module": "@jupyter-widgets/base",
            "_view_module_version": "1.2.0",
            "_view_name": "LayoutView",
            "align_content": null,
            "align_items": null,
            "align_self": null,
            "border": null,
            "bottom": null,
            "display": null,
            "flex": null,
            "flex_flow": null,
            "grid_area": null,
            "grid_auto_columns": null,
            "grid_auto_flow": null,
            "grid_auto_rows": null,
            "grid_column": null,
            "grid_gap": null,
            "grid_row": null,
            "grid_template_areas": null,
            "grid_template_columns": null,
            "grid_template_rows": null,
            "height": null,
            "justify_content": null,
            "justify_items": null,
            "left": null,
            "margin": null,
            "max_height": null,
            "max_width": null,
            "min_height": null,
            "min_width": null,
            "object_fit": null,
            "object_position": null,
            "order": null,
            "overflow": null,
            "overflow_x": null,
            "overflow_y": null,
            "padding": null,
            "right": null,
            "top": null,
            "visibility": null,
            "width": null
          }
        },
        "7a363cc3c6a644fbb3b4c98a9c4af1d5": {
          "model_module": "@jupyter-widgets/controls",
          "model_name": "DescriptionStyleModel",
          "model_module_version": "1.5.0",
          "state": {
            "_model_module": "@jupyter-widgets/controls",
            "_model_module_version": "1.5.0",
            "_model_name": "DescriptionStyleModel",
            "_view_count": null,
            "_view_module": "@jupyter-widgets/base",
            "_view_module_version": "1.2.0",
            "_view_name": "StyleView",
            "description_width": ""
          }
        },
        "25fb6bbd717547979af68a37b7bf9cfc": {
          "model_module": "@jupyter-widgets/base",
          "model_name": "LayoutModel",
          "model_module_version": "1.2.0",
          "state": {
            "_model_module": "@jupyter-widgets/base",
            "_model_module_version": "1.2.0",
            "_model_name": "LayoutModel",
            "_view_count": null,
            "_view_module": "@jupyter-widgets/base",
            "_view_module_version": "1.2.0",
            "_view_name": "LayoutView",
            "align_content": null,
            "align_items": null,
            "align_self": null,
            "border": null,
            "bottom": null,
            "display": null,
            "flex": null,
            "flex_flow": null,
            "grid_area": null,
            "grid_auto_columns": null,
            "grid_auto_flow": null,
            "grid_auto_rows": null,
            "grid_column": null,
            "grid_gap": null,
            "grid_row": null,
            "grid_template_areas": null,
            "grid_template_columns": null,
            "grid_template_rows": null,
            "height": null,
            "justify_content": null,
            "justify_items": null,
            "left": null,
            "margin": null,
            "max_height": null,
            "max_width": null,
            "min_height": null,
            "min_width": null,
            "object_fit": null,
            "object_position": null,
            "order": null,
            "overflow": null,
            "overflow_x": null,
            "overflow_y": null,
            "padding": null,
            "right": null,
            "top": null,
            "visibility": null,
            "width": null
          }
        },
        "0d611a36285443a79a837fcd01846587": {
          "model_module": "@jupyter-widgets/controls",
          "model_name": "ProgressStyleModel",
          "model_module_version": "1.5.0",
          "state": {
            "_model_module": "@jupyter-widgets/controls",
            "_model_module_version": "1.5.0",
            "_model_name": "ProgressStyleModel",
            "_view_count": null,
            "_view_module": "@jupyter-widgets/base",
            "_view_module_version": "1.2.0",
            "_view_name": "StyleView",
            "bar_color": null,
            "description_width": ""
          }
        },
        "6cae3741786b4c14b22dda8f6bbe8672": {
          "model_module": "@jupyter-widgets/base",
          "model_name": "LayoutModel",
          "model_module_version": "1.2.0",
          "state": {
            "_model_module": "@jupyter-widgets/base",
            "_model_module_version": "1.2.0",
            "_model_name": "LayoutModel",
            "_view_count": null,
            "_view_module": "@jupyter-widgets/base",
            "_view_module_version": "1.2.0",
            "_view_name": "LayoutView",
            "align_content": null,
            "align_items": null,
            "align_self": null,
            "border": null,
            "bottom": null,
            "display": null,
            "flex": null,
            "flex_flow": null,
            "grid_area": null,
            "grid_auto_columns": null,
            "grid_auto_flow": null,
            "grid_auto_rows": null,
            "grid_column": null,
            "grid_gap": null,
            "grid_row": null,
            "grid_template_areas": null,
            "grid_template_columns": null,
            "grid_template_rows": null,
            "height": null,
            "justify_content": null,
            "justify_items": null,
            "left": null,
            "margin": null,
            "max_height": null,
            "max_width": null,
            "min_height": null,
            "min_width": null,
            "object_fit": null,
            "object_position": null,
            "order": null,
            "overflow": null,
            "overflow_x": null,
            "overflow_y": null,
            "padding": null,
            "right": null,
            "top": null,
            "visibility": null,
            "width": null
          }
        },
        "334de70fbcd24f38b96228b1ac5c6f21": {
          "model_module": "@jupyter-widgets/controls",
          "model_name": "DescriptionStyleModel",
          "model_module_version": "1.5.0",
          "state": {
            "_model_module": "@jupyter-widgets/controls",
            "_model_module_version": "1.5.0",
            "_model_name": "DescriptionStyleModel",
            "_view_count": null,
            "_view_module": "@jupyter-widgets/base",
            "_view_module_version": "1.2.0",
            "_view_name": "StyleView",
            "description_width": ""
          }
        }
      }
    }
  },
  "nbformat": 4,
  "nbformat_minor": 0
}